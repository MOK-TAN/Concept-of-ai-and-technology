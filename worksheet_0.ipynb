{
 "cells": [
  {
   "cell_type": "code",
   "execution_count": 1,
   "id": "734a4ceb-d176-410f-b1ff-8b777bfc365f",
   "metadata": {},
   "outputs": [],
   "source": [
    "# TASK 1"
   ]
  },
  {
   "cell_type": "code",
   "execution_count": 26,
   "id": "38c83db1-f2b1-436f-995b-121701c3ec53",
   "metadata": {},
   "outputs": [
    {
     "name": "stdout",
     "output_type": "stream",
     "text": [
      "48\n"
     ]
    }
   ],
   "source": [
    "temperatures = [8.2, 17.4, 14.1, 7.9, 18.0, 13.5, 9.0, 17.8, 13.0, 8.5,\n",
    "16.5, 12.9, 7.7, 17.2, 13.3, 8.4, 16.7, 14.0, 9.5, 18.3, 13.4, 8.1,\n",
    "17.9, 14.2, 7.6, 17.0, 12.8, 8.0, 16.8, 13.7, 7.8, 17.5, 13.6, 8.7,\n",
    "17.1, 13.8, 9.2, 18.1, 13.9, 8.3, 16.4, 12.7, 8.9, 18.2, 13.1, 7.8,\n",
    "16.6, 12.5]\n",
    "print(len(temperatures))"
   ]
  },
  {
   "cell_type": "code",
   "execution_count": 28,
   "id": "578a4c09-3808-4be8-9311-26ea319b1c46",
   "metadata": {},
   "outputs": [],
   "source": [
    "Cold = [] #below 10deg\n",
    "Mild = [] #between 10deg and 15deg\n",
    "Comfortable = [] #between 15deg and 20deg"
   ]
  },
  {
   "cell_type": "code",
   "execution_count": 29,
   "id": "b1f6bc54-70b3-441b-bdf3-2ec28345a4b0",
   "metadata": {},
   "outputs": [
    {
     "name": "stdout",
     "output_type": "stream",
     "text": [
      "[8.2, 7.9, 9.0, 8.5, 7.7, 8.4, 9.5, 8.1, 7.6, 8.0, 7.8, 8.7, 9.2, 8.3, 8.9, 7.8]\n",
      "[14.1, 13.5, 13.0, 12.9, 13.3, 14.0, 13.4, 14.2, 12.8, 13.7, 13.6, 13.8, 13.9, 12.7, 13.1, 12.5]\n",
      "[17.4, 18.0, 17.8, 16.5, 17.2, 16.7, 18.3, 17.9, 17.0, 16.8, 17.5, 17.1, 18.1, 16.4, 18.2, 16.6]\n"
     ]
    }
   ],
   "source": [
    "for i in temperatures : \n",
    "    if(i < 10):\n",
    "        Cold.append(i)\n",
    "    elif (i >= 10 and i < 15):\n",
    "        Mild.append(i)\n",
    "    elif(i >=15 and i < 20):\n",
    "        Comfortable.append(i)\n",
    "\n",
    "print(Cold)\n",
    "print(Mild)\n",
    "print(Comfortable)\n"
   ]
  },
  {
   "cell_type": "code",
   "execution_count": 9,
   "id": "b2ce48ff-d365-4958-b766-96f27e55559a",
   "metadata": {},
   "outputs": [],
   "source": [
    "# TASK 2"
   ]
  },
  {
   "cell_type": "code",
   "execution_count": 30,
   "id": "17facaf0-f7e6-459d-8c6b-47cb06cfd8c8",
   "metadata": {},
   "outputs": [
    {
     "name": "stdout",
     "output_type": "stream",
     "text": [
      "Number of times it was mild = 16\n",
      "Number of times it was comfortable = 16\n",
      "Number of times it was cold = 16\n"
     ]
    }
   ],
   "source": [
    "print(\"Number of times it was mild =\", len(Mild))\n",
    "print(\"Number of times it was comfortable =\", len(Comfortable))\n",
    "print(\"Number of times it was cold =\", len(Cold))"
   ]
  },
  {
   "cell_type": "code",
   "execution_count": 13,
   "id": "2239dbe5-e6b7-4509-a77f-b052262d16a7",
   "metadata": {},
   "outputs": [],
   "source": [
    "# TASK 3 : CONVERT TEMPERATURE FROM CELSIUS TO FAHRENHIET"
   ]
  },
  {
   "cell_type": "code",
   "execution_count": 19,
   "id": "a2903c31-d79b-4bc8-88ba-967ac5acacab",
   "metadata": {},
   "outputs": [],
   "source": [
    "def toFah(x):\n",
    "    fah = (x *(9/5)) + 32\n",
    "    return fah"
   ]
  },
  {
   "cell_type": "code",
   "execution_count": 20,
   "id": "0725e9a8-f71d-4af1-90d7-e2211155b4a9",
   "metadata": {},
   "outputs": [
    {
     "name": "stdout",
     "output_type": "stream",
     "text": [
      "[46.76, 63.31999999999999, 57.379999999999995, 46.22, 64.4, 56.3, 48.2, 64.03999999999999, 55.400000000000006, 47.3, 61.7, 55.22, 45.86, 62.96, 55.94, 47.120000000000005, 62.06, 57.2, 49.1, 64.94, 56.120000000000005, 46.58, 64.22, 57.56, 45.68, 62.6, 55.040000000000006, 46.4, 62.24, 56.66, 46.04, 63.5, 56.480000000000004, 47.66, 62.78, 56.84, 48.56, 64.58000000000001, 57.019999999999996, 46.94, 61.519999999999996, 54.86, 48.019999999999996, 64.75999999999999, 55.58, 46.04, 61.88, 54.5]\n"
     ]
    }
   ],
   "source": [
    "intoFah = []\n",
    "for i in temperatures:\n",
    "    intoFah.append(toFah(i))\n",
    "print(intoFah)"
   ]
  },
  {
   "cell_type": "code",
   "execution_count": 21,
   "id": "0364d1ee-57f0-4f1c-a03d-d0ad246154a9",
   "metadata": {},
   "outputs": [],
   "source": [
    "# TASK 4 : ANALYSE TEMPERATURE PATTERNS BY TIME OF DAY"
   ]
  },
  {
   "cell_type": "code",
   "execution_count": 38,
   "id": "c517b766-394e-4aa3-b30e-fb29c621db74",
   "metadata": {},
   "outputs": [
    {
     "name": "stdout",
     "output_type": "stream",
     "text": [
      "[8.2, 17.4, 14.1, 7.9, 18.0, 13.5, 9.0, 17.8]\n",
      "[13.0, 8.5, 16.5, 12.9, 7.7, 17.2, 13.3, 8.4]\n",
      "[16.7, 14.0, 9.5, 18.3, 13.4, 8.1, 17.9, 14.2]\n",
      "Average daytime temperature: 14.01°C\n",
      "Average evening temperature: 13.24°C\n",
      "Average night temperature: 12.19°C\n"
     ]
    }
   ],
   "source": [
    "Night = []\n",
    "Evening = []\n",
    "Day = []\n",
    "for i in range(len(temperatures)):\n",
    "    if(i >= 0 and i < 8):\n",
    "        Night.append(temperatures[i])\n",
    "    elif(i>=8 and i <16):\n",
    "        Evening.append(temperatures[i])\n",
    "    elif(i>=16 and i<24):\n",
    "        Day.append(temperatures[i])\n",
    "\n",
    "print(Night)\n",
    "print(Evening)\n",
    "print(Day)\n",
    "\n",
    "average_day_temp = sum(Day) / len(Day)\n",
    "average_night_temp = sum(Night) / len(Night)\n",
    "average_evening_temp = sum(Evening) / len(Evening)\n",
    "\n",
    "print(f\"Average daytime temperature: {average_day_temp:.2f}°C\")\n",
    "print(f\"Average evening temperature: {average_night_temp:.2f}°C\")\n",
    "print(f\"Average night temperature: {average_evening_temp:.2f}°C\")"
   ]
  },
  {
   "cell_type": "code",
   "execution_count": 39,
   "id": "1f0bc0ca-4caf-4277-815d-fac44e3c632e",
   "metadata": {},
   "outputs": [],
   "source": [
    "# RECURSION"
   ]
  },
  {
   "cell_type": "code",
   "execution_count": 41,
   "id": "ce36782b-b01f-45dd-8e50-c87631ba7c39",
   "metadata": {},
   "outputs": [],
   "source": [
    "# TASK 1 : SUM OF NESTED LISTS"
   ]
  },
  {
   "cell_type": "code",
   "execution_count": 44,
   "id": "7021d324-1365-4e9d-b94b-e50e314f3398",
   "metadata": {},
   "outputs": [],
   "source": [
    "def sum_nested_list(nested_list):\n",
    "    \"\"\"\n",
    "    Calculate the sum of all numbers in a nested list.\n",
    "    This function takes a list that may contain integers and other nested lists.\n",
    "    It recursively traverses the list and sums all the integers, no matter how deeply\n",
    "    nested they are.\n",
    "    Args:\n",
    "    nested_list (list): A list that may contain integers or other lists of integers.\n",
    "    Returns:int: The total sum of all integers in the nested list, including those in sublists\n",
    "    .\n",
    "    Example:\n",
    "    >>> sum_nested_list([1, [2, [3, 4], 5], 6, [7, 8]])\n",
    "    36\n",
    "    >>> sum_nested_list([1, [2, 3], [4, [5]]])\n",
    "    15\n",
    "    \"\"\"\n",
    "    total = 0\n",
    "    for element in nested_list:\n",
    "        if isinstance(element, list): # Check if the element is a list\n",
    "            total += sum_nested_list(element) # Recursively sum the nested list\n",
    "        else:\n",
    "            total += element # Add the number to the tot\n",
    "    return total"
   ]
  },
  {
   "cell_type": "code",
   "execution_count": 45,
   "id": "d064a2cd-a131-4fed-a3ab-6f4d35236c3c",
   "metadata": {},
   "outputs": [],
   "source": [
    "nested_list = [1, [2, [3, 4], 5], 6, [7, 8]]"
   ]
  },
  {
   "cell_type": "code",
   "execution_count": 46,
   "id": "78b11463-3015-4ee1-8bfb-f3a2df918849",
   "metadata": {},
   "outputs": [
    {
     "name": "stdout",
     "output_type": "stream",
     "text": [
      "36\n"
     ]
    }
   ],
   "source": [
    "print(sum_nested_list([1, [2, [3, 4], 5], 6, [7, 8]]))"
   ]
  },
  {
   "cell_type": "code",
   "execution_count": 47,
   "id": "7e232ea9-68d4-4fd7-8306-c437e8eb4896",
   "metadata": {},
   "outputs": [],
   "source": [
    "#Task 2 - Generate All Permutations of a String:"
   ]
  },
  {
   "cell_type": "code",
   "execution_count": 51,
   "id": "79a508ea-424e-4939-aede-9b3b445c1f65",
   "metadata": {},
   "outputs": [
    {
     "name": "stdout",
     "output_type": "stream",
     "text": [
      "['abc', 'acb', 'bac', 'bca', 'cab', 'cba']\n"
     ]
    }
   ],
   "source": [
    "def generate_permutations(s):\n",
    "\n",
    "    if len(s) == 1:\n",
    "        return [s]\n",
    "    \n",
    "    permutations = []  #store all the permutations\n",
    "\n",
    "    # Loop over each character in the string\n",
    "    for i in range(len(s)):\n",
    "        char = s[i]\n",
    "        remaining = s[:i] + s[i+1:]\n",
    "        \n",
    "        # Recursively generate permutations of the remaining string\n",
    "        for perm in generate_permutations(remaining):\n",
    "            new_permutation = char + perm\n",
    "            \n",
    "            if new_permutation not in permutations:\n",
    "                permutations.append(new_permutation)\n",
    "    \n",
    "    return permutations\n",
    "\n",
    "# Example usage\n",
    "print(generate_permutations(\"abc\"))\n"
   ]
  },
  {
   "cell_type": "code",
   "execution_count": 52,
   "id": "c9d3b840-cf61-4837-ab30-6c7f8461325e",
   "metadata": {},
   "outputs": [
    {
     "name": "stdout",
     "output_type": "stream",
     "text": [
      "Total directory size: 1400 KB\n"
     ]
    }
   ],
   "source": [
    "def calculate_directory_size(directory):\n",
    "    total_size = 0  \n",
    "    \n",
    "    \n",
    "    for key, value in directory.items():\n",
    "        if isinstance(value, dict):  \n",
    "            total_size += calculate_directory_size(value)  \n",
    "        else:  \n",
    "            total_size += value  \n",
    "    \n",
    "    return total_size  \n",
    "\n",
    "# Sample directory structure\n",
    "directory_structure = {\n",
    "    \"file1.txt\": 200,\n",
    "    \"file2.txt\": 300,\n",
    "    \"subdir1\": {\n",
    "        \"file3.txt\": 400,\n",
    "        \"file4.txt\": 100\n",
    "    },\n",
    "    \"subdir2\": {\n",
    "        \"subsubdir1\": {\n",
    "            \"file5.txt\": 250\n",
    "        },\n",
    "        \"file6.txt\": 150\n",
    "    }\n",
    "}\n",
    "\n",
    "\n",
    "total_size = calculate_directory_size(directory_structure)\n",
    "print(f\"Total directory size: {total_size} KB\")\n"
   ]
  },
  {
   "cell_type": "code",
   "execution_count": 53,
   "id": "32164e4e-2d2f-4d6f-b341-3906fb990df4",
   "metadata": {},
   "outputs": [],
   "source": [
    "#DYNAMIC PROGRAMMING"
   ]
  },
  {
   "cell_type": "code",
   "execution_count": 54,
   "id": "355ad321-4188-40c6-a17e-14efd394a5b0",
   "metadata": {},
   "outputs": [],
   "source": [
    "#TASK 1"
   ]
  },
  {
   "cell_type": "code",
   "execution_count": 57,
   "id": "d10b918f-9249-4bdc-b928-187d674073fb",
   "metadata": {},
   "outputs": [],
   "source": [
    "def min_coins(coins, amount):\n",
    "    dp = [float('inf')] * (amount + 1)\n",
    "    dp[0] = 0\n",
    "    for coin in coins:\n",
    "        for i in range(coin, amount + 1):\n",
    "            dp[i] = min(dp[i], dp[i - coin] + 1)\n",
    "    return dp[amount] if dp[amount] != float('inf') else -1"
   ]
  },
  {
   "cell_type": "code",
   "execution_count": 58,
   "id": "0a5f7e13-daa6-4e7a-88bb-123730d261e9",
   "metadata": {},
   "outputs": [
    {
     "data": {
      "text/plain": [
       "3"
      ]
     },
     "execution_count": 58,
     "metadata": {},
     "output_type": "execute_result"
    }
   ],
   "source": [
    "min_coins([1, 2, 5], 11)"
   ]
  },
  {
   "cell_type": "code",
   "execution_count": 59,
   "id": "5e3e4c51-5e95-4eac-abb7-64f224f05ae4",
   "metadata": {},
   "outputs": [],
   "source": [
    "#TASK 2"
   ]
  },
  {
   "cell_type": "code",
   "execution_count": 62,
   "id": "bec1d0e9-c6cc-462a-b30f-c45f705d0a52",
   "metadata": {},
   "outputs": [
    {
     "name": "stdout",
     "output_type": "stream",
     "text": [
      "The length of the LCS is: 3\n"
     ]
    }
   ],
   "source": [
    "def longest_common_subsequence(s1, s2):\n",
    "    # Get the lengths of the two strings\n",
    "    m = len(s1)\n",
    "    n = len(s2)\n",
    "    \n",
    "    \n",
    "    dp = [[0] * (n + 1) for _ in range(m + 1)]\n",
    "\n",
    "    \n",
    "    for i in range(1, m + 1):\n",
    "        for j in range(1, n + 1):\n",
    "            if s1[i - 1] == s2[j - 1]:  \n",
    "                dp[i][j] = dp[i - 1][j - 1] + 1\n",
    "            else: \n",
    "                dp[i][j] = max(dp[i - 1][j], dp[i][j - 1])\n",
    "\n",
    "    \n",
    "    return dp[m][n]\n",
    "\n",
    "# Test with example strings\n",
    "s1 = \"abcde\"\n",
    "s2 = \"ace\"\n",
    "print(f\"The length of the LCS is: {longest_common_subsequence(s1, s2)}\")\n",
    "\n",
    "    "
   ]
  },
  {
   "cell_type": "code",
   "execution_count": 63,
   "id": "ff980f1b-aced-446b-bc1d-37d2df52f4e4",
   "metadata": {},
   "outputs": [],
   "source": [
    "# TASK 3"
   ]
  },
  {
   "cell_type": "code",
   "execution_count": 64,
   "id": "30beba1e-718c-4793-83c6-54ccfcd67a89",
   "metadata": {},
   "outputs": [
    {
     "name": "stdout",
     "output_type": "stream",
     "text": [
      "Maximum value in knapsack: 9\n"
     ]
    }
   ],
   "source": [
    "def knapsack(weights, values, capacity):\n",
    "    \n",
    "    dp = [0] * (capacity + 1)\n",
    "\n",
    "    \n",
    "    for i in range(len(weights)):\n",
    "        for w in range(capacity, weights[i] - 1, -1):\n",
    "            dp[w] = max(dp[w], dp[w - weights[i]] + values[i])\n",
    "    \n",
    "    \n",
    "    return dp[capacity]\n",
    "\n",
    "\n",
    "weights = [1, 3, 4, 5]\n",
    "values = [1, 4, 5, 7]\n",
    "capacity = 7\n",
    "print(f\"Maximum value in knapsack: {knapsack(weights, values, capacity)}\")\n"
   ]
  },
  {
   "cell_type": "code",
   "execution_count": null,
   "id": "c3073efc-cd1d-4e8d-8811-6f8c14bc0648",
   "metadata": {},
   "outputs": [],
   "source": []
  }
 ],
 "metadata": {
  "kernelspec": {
   "display_name": "Python 3 (ipykernel)",
   "language": "python",
   "name": "python3"
  },
  "language_info": {
   "codemirror_mode": {
    "name": "ipython",
    "version": 3
   },
   "file_extension": ".py",
   "mimetype": "text/x-python",
   "name": "python",
   "nbconvert_exporter": "python",
   "pygments_lexer": "ipython3",
   "version": "3.13.0"
  }
 },
 "nbformat": 4,
 "nbformat_minor": 5
}
