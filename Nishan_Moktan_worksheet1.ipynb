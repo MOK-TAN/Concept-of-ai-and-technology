{
  "nbformat": 4,
  "nbformat_minor": 0,
  "metadata": {
    "colab": {
      "provenance": []
    },
    "kernelspec": {
      "name": "python3",
      "display_name": "Python 3"
    },
    "language_info": {
      "name": "python"
    }
  },
  "cells": [
    {
      "cell_type": "markdown",
      "source": [
        "Warming Up Exercise: Basic Vector and Matrix Operation with Numpy.\n",
        "Problem - 1: Array Creation:"
      ],
      "metadata": {
        "id": "I8PEYELewGzx"
      }
    },
    {
      "cell_type": "code",
      "source": [
        "import numpy as np"
      ],
      "metadata": {
        "id": "Zb2LkCpiv3_O"
      },
      "execution_count": 2,
      "outputs": []
    },
    {
      "cell_type": "markdown",
      "source": [
        "1. Initialize an empty array with size 2X2."
      ],
      "metadata": {
        "id": "FdihNjGSwI5Q"
      }
    },
    {
      "cell_type": "code",
      "source": [
        "\n",
        "a=np.empty((2,2))\n",
        "a\n",
        "# array.shape\n",
        "\n"
      ],
      "metadata": {
        "colab": {
          "base_uri": "https://localhost:8080/"
        },
        "id": "Wzd35GN_wOeu",
        "outputId": "2561ce69-7cec-45c5-996d-2015f730d3a8"
      },
      "execution_count": 3,
      "outputs": [
        {
          "output_type": "execute_result",
          "data": {
            "text/plain": [
              "array([[5.01640820e-310, 0.00000000e+000],\n",
              "       [5.01762585e-310, 6.60977373e-310]])"
            ]
          },
          "metadata": {},
          "execution_count": 3
        }
      ]
    },
    {
      "cell_type": "markdown",
      "source": [
        "2. Initialize an all one array with size 4X2."
      ],
      "metadata": {
        "id": "AABdDG2szG9b"
      }
    },
    {
      "cell_type": "code",
      "source": [
        "array=np.ones((4,2))\n",
        "array\n"
      ],
      "metadata": {
        "colab": {
          "base_uri": "https://localhost:8080/"
        },
        "id": "uem1dR-uz8_K",
        "outputId": "f69d0414-d823-4ead-f66c-0b4cb81bf7c6"
      },
      "execution_count": 4,
      "outputs": [
        {
          "output_type": "execute_result",
          "data": {
            "text/plain": [
              "array([[1., 1.],\n",
              "       [1., 1.],\n",
              "       [1., 1.],\n",
              "       [1., 1.]])"
            ]
          },
          "metadata": {},
          "execution_count": 4
        }
      ]
    },
    {
      "cell_type": "markdown",
      "source": [
        "3. Return a new array of given shape and type, filled with fill value.{Hint: np.full}"
      ],
      "metadata": {
        "id": "kiUyNHpq1HBn"
      }
    },
    {
      "cell_type": "code",
      "source": [
        "a=np.full((4,3),3)\n",
        "a"
      ],
      "metadata": {
        "colab": {
          "base_uri": "https://localhost:8080/"
        },
        "id": "zDjMfCRm1Qst",
        "outputId": "8a4198c9-8154-471f-9f2e-bbc8b8b53fda"
      },
      "execution_count": 5,
      "outputs": [
        {
          "output_type": "execute_result",
          "data": {
            "text/plain": [
              "array([[3, 3, 3],\n",
              "       [3, 3, 3],\n",
              "       [3, 3, 3],\n",
              "       [3, 3, 3]])"
            ]
          },
          "metadata": {},
          "execution_count": 5
        }
      ]
    },
    {
      "cell_type": "markdown",
      "source": [
        "4. Return a new array of zeros with same shape and type as a given array.{Hint: np.zeros like}"
      ],
      "metadata": {
        "id": "SZ97-D0F2Vj_"
      }
    },
    {
      "cell_type": "code",
      "source": [
        "i=np.arange(6).reshape(2,3)\n",
        "\n",
        "a=np.zeros_like(i)\n",
        "a"
      ],
      "metadata": {
        "colab": {
          "base_uri": "https://localhost:8080/"
        },
        "id": "GDTYpP562hLL",
        "outputId": "17b2d0d1-6a33-49ec-ac8a-67b63a40995b"
      },
      "execution_count": 6,
      "outputs": [
        {
          "output_type": "execute_result",
          "data": {
            "text/plain": [
              "array([[0, 0, 0],\n",
              "       [0, 0, 0]])"
            ]
          },
          "metadata": {},
          "execution_count": 6
        }
      ]
    },
    {
      "cell_type": "markdown",
      "source": [
        "5. Return a new array of ones with same shape and type as a given array.{Hint: np.ones like}"
      ],
      "metadata": {
        "id": "9gsWtdrh4qoX"
      }
    },
    {
      "cell_type": "code",
      "source": [
        "i=np.arange(8).reshape(2,4)\n",
        "a=np.ones_like(i)\n",
        "a"
      ],
      "metadata": {
        "colab": {
          "base_uri": "https://localhost:8080/"
        },
        "id": "L4d-oIWC4ypl",
        "outputId": "a0cde9d5-3fd1-4bce-edfb-a3ca547be19b"
      },
      "execution_count": null,
      "outputs": [
        {
          "output_type": "execute_result",
          "data": {
            "text/plain": [
              "array([[1, 1, 1, 1],\n",
              "       [1, 1, 1, 1]])"
            ]
          },
          "metadata": {},
          "execution_count": 22
        }
      ]
    },
    {
      "cell_type": "markdown",
      "source": [
        "6. For an existing list new_list = [1,2,3,4] convert to an numpy array.{Hint: np.array()}"
      ],
      "metadata": {
        "id": "7OjsFTC85M8A"
      }
    },
    {
      "cell_type": "code",
      "source": [
        "new_list=[1,2,3,4]\n",
        "A=np.array(new_list)\n",
        "A"
      ],
      "metadata": {
        "colab": {
          "base_uri": "https://localhost:8080/"
        },
        "id": "wwyV58sL5QCF",
        "outputId": "09d94011-d109-4820-f1ba-1b499523f418"
      },
      "execution_count": 7,
      "outputs": [
        {
          "output_type": "execute_result",
          "data": {
            "text/plain": [
              "array([1, 2, 3, 4])"
            ]
          },
          "metadata": {},
          "execution_count": 7
        }
      ]
    },
    {
      "cell_type": "markdown",
      "source": [
        "4.1.1 Problem - 2: Array Manipulation: Numerical Ranges and Array indexing:"
      ],
      "metadata": {
        "id": "klvDhow65ekn"
      }
    },
    {
      "cell_type": "markdown",
      "source": [
        "1. Create an array with values ranging from 10 to 49. {Hint:np.arrange()}."
      ],
      "metadata": {
        "id": "q8csAoz15iIW"
      }
    },
    {
      "cell_type": "code",
      "source": [
        "a=np.arange(10,50)\n",
        "a"
      ],
      "metadata": {
        "colab": {
          "base_uri": "https://localhost:8080/"
        },
        "id": "fxNnMAN55oVj",
        "outputId": "64745fc3-b3ea-461a-c2fa-76e3963b2588"
      },
      "execution_count": 8,
      "outputs": [
        {
          "output_type": "execute_result",
          "data": {
            "text/plain": [
              "array([10, 11, 12, 13, 14, 15, 16, 17, 18, 19, 20, 21, 22, 23, 24, 25, 26,\n",
              "       27, 28, 29, 30, 31, 32, 33, 34, 35, 36, 37, 38, 39, 40, 41, 42, 43,\n",
              "       44, 45, 46, 47, 48, 49])"
            ]
          },
          "metadata": {},
          "execution_count": 8
        }
      ]
    },
    {
      "cell_type": "markdown",
      "source": [
        "2. Create a 3X3 matrix with values ranging from 0 to 8.\n",
        "{Hint:look for np.reshape()}"
      ],
      "metadata": {
        "id": "0o2ENPTC597A"
      }
    },
    {
      "cell_type": "code",
      "source": [
        "a=np.arange(0,9).reshape(3,3)\n",
        "a"
      ],
      "metadata": {
        "colab": {
          "base_uri": "https://localhost:8080/"
        },
        "id": "je9sdcBb6BZX",
        "outputId": "25be8369-4a35-4794-b663-625e17fe899d"
      },
      "execution_count": 9,
      "outputs": [
        {
          "output_type": "execute_result",
          "data": {
            "text/plain": [
              "array([[0, 1, 2],\n",
              "       [3, 4, 5],\n",
              "       [6, 7, 8]])"
            ]
          },
          "metadata": {},
          "execution_count": 9
        }
      ]
    },
    {
      "cell_type": "markdown",
      "source": [
        "3. Create a 3X3 identity matrix.{Hint:np.eye()}"
      ],
      "metadata": {
        "id": "WeLTUUy96N-A"
      }
    },
    {
      "cell_type": "code",
      "source": [
        "a=np.eye(3)\n",
        "a"
      ],
      "metadata": {
        "colab": {
          "base_uri": "https://localhost:8080/"
        },
        "id": "fbAGd8mU6SZO",
        "outputId": "4433d139-ce20-4e8b-9653-d3ac8ce0e931"
      },
      "execution_count": null,
      "outputs": [
        {
          "output_type": "execute_result",
          "data": {
            "text/plain": [
              "array([[1., 0., 0.],\n",
              "       [0., 1., 0.],\n",
              "       [0., 0., 1.]])"
            ]
          },
          "metadata": {},
          "execution_count": 26
        }
      ]
    },
    {
      "cell_type": "markdown",
      "source": [
        "4. Create a random array of size 30 and find the mean of the array.\n",
        "{Hint:check for np.random.random() and array.mean() function}"
      ],
      "metadata": {
        "id": "LDqumAUw6p1U"
      }
    },
    {
      "cell_type": "code",
      "source": [
        "\n",
        "a = np.random.random(30)\n",
        "mean = a.mean()\n",
        "\n",
        "print(\"Random array given: \", a)\n",
        "print(\"Mean of array given : \", mean)\n"
      ],
      "metadata": {
        "colab": {
          "base_uri": "https://localhost:8080/"
        },
        "id": "Ts1YNSQWGxPZ",
        "outputId": "4dfbbc7d-c241-44e6-ab8f-806747f6b5f1"
      },
      "execution_count": 11,
      "outputs": [
        {
          "output_type": "stream",
          "name": "stdout",
          "text": [
            "Random array given:  [0.25270571 0.14128591 0.45538586 0.03227296 0.27038749 0.68066506\n",
            " 0.6749441  0.31553167 0.02061965 0.39257074 0.76606775 0.60007766\n",
            " 0.32059767 0.37029617 0.82095726 0.0237029  0.40127457 0.22718895\n",
            " 0.477972   0.88542652 0.84721    0.03728406 0.49224246 0.08383325\n",
            " 0.35121346 0.20369056 0.96867738 0.35629033 0.3262109  0.38470739]\n",
            "Mean of array given :  0.40604301333280596\n"
          ]
        }
      ]
    },
    {
      "cell_type": "markdown",
      "source": [
        "5. Create a 10X10 array with random values and find the minimum and maximum values."
      ],
      "metadata": {
        "id": "iK__ksd8HAQa"
      }
    },
    {
      "cell_type": "code",
      "source": [
        "\n",
        "a=np.random.random((10,10))\n",
        "min=a.min()\n",
        "max=a.max()\n",
        "print(\" Random Array: \", a)\n",
        "print(\"MinValue:\", min)\n",
        "print(\"MaxValue:\", max)"
      ],
      "metadata": {
        "colab": {
          "base_uri": "https://localhost:8080/"
        },
        "id": "9BHKfLfsHIzD",
        "outputId": "6d8b9606-fda9-47f6-f965-3ee302615c9a"
      },
      "execution_count": 15,
      "outputs": [
        {
          "output_type": "stream",
          "name": "stdout",
          "text": [
            "10x10 Random Array:  [[0.57445307 0.99907109 0.50826341 0.09180356 0.44887771 0.76442244\n",
            "  0.80644247 0.21605619 0.39786659 0.15881069]\n",
            " [0.82298046 0.61027879 0.88876447 0.49549865 0.44388836 0.06216169\n",
            "  0.77619343 0.51731957 0.10981019 0.41617311]\n",
            " [0.04711588 0.67951994 0.50357111 0.73260326 0.9076616  0.51780837\n",
            "  0.11015012 0.05818893 0.0459275  0.80945651]\n",
            " [0.94401191 0.73174409 0.55526701 0.50580756 0.38257703 0.97956671\n",
            "  0.11521867 0.67858213 0.60874723 0.13052811]\n",
            " [0.00580032 0.39634337 0.87685709 0.35749929 0.25467856 0.62937349\n",
            "  0.14968142 0.92379296 0.12004459 0.8897803 ]\n",
            " [0.19412087 0.15265259 0.46630741 0.21276939 0.23638761 0.75837435\n",
            "  0.97044139 0.75041891 0.76714339 0.66131925]\n",
            " [0.85983855 0.07682534 0.5580504  0.41774248 0.79228502 0.98632173\n",
            "  0.45664226 0.75765013 0.01722419 0.69323521]\n",
            " [0.90425536 0.65468452 0.62813961 0.99386666 0.5032677  0.22573514\n",
            "  0.43110283 0.8570311  0.23024981 0.57974305]\n",
            " [0.95530932 0.58664405 0.71603432 0.22023999 0.17716588 0.41953338\n",
            "  0.75880448 0.78794236 0.15081992 0.1695203 ]\n",
            " [0.43339016 0.35425408 0.97125393 0.44271761 0.18049258 0.20700273\n",
            "  0.26229709 0.56606288 0.86613397 0.58575994]]\n",
            "Minimum Value: 0.005800321944915643\n",
            "Maximum Value: 0.9990710870193468\n"
          ]
        }
      ]
    },
    {
      "cell_type": "markdown",
      "source": [
        "6. Create a zero array of size 10 and replace 5th element with 1."
      ],
      "metadata": {
        "id": "l_cqTuLfHilu"
      }
    },
    {
      "cell_type": "code",
      "source": [
        "a=np.zeros(10)\n",
        "a[4]=1\n",
        "print(\"Updated :\", a)"
      ],
      "metadata": {
        "colab": {
          "base_uri": "https://localhost:8080/"
        },
        "id": "fi7lz2HwHotX",
        "outputId": "ec200bf9-dc32-44bc-82ca-704ac138e48f"
      },
      "execution_count": 17,
      "outputs": [
        {
          "output_type": "stream",
          "name": "stdout",
          "text": [
            "Updated : [0. 0. 0. 0. 1. 0. 0. 0. 0. 0.]\n"
          ]
        }
      ]
    },
    {
      "cell_type": "markdown",
      "source": [
        "7. Reverse an array arr = [1,2,0,0,4,0]."
      ],
      "metadata": {
        "id": "3svorO2IH4DK"
      }
    },
    {
      "cell_type": "code",
      "source": [
        "a=np.array([1,2,0,0,4,0])\n",
        "reversed=a[::-1]\n",
        "print(\"Original array: \", a)\n",
        "print(\"reversed array: \", reversed)"
      ],
      "metadata": {
        "colab": {
          "base_uri": "https://localhost:8080/"
        },
        "id": "6hav3gK6H9Kt",
        "outputId": "426886f6-41fb-419c-8f38-4d3c7715e2aa"
      },
      "execution_count": 18,
      "outputs": [
        {
          "output_type": "stream",
          "name": "stdout",
          "text": [
            "Original array:  [1 2 0 0 4 0]\n",
            "reversed array:  [0 4 0 0 2 1]\n"
          ]
        }
      ]
    },
    {
      "cell_type": "markdown",
      "source": [
        "8.Create a 2d array with 1 on border and 0 inside."
      ],
      "metadata": {
        "id": "8l9etneLIgAf"
      }
    },
    {
      "cell_type": "code",
      "source": [
        "a=np.zeros((5,5),dtype=int)\n",
        "a[0,:]=1 #top\n",
        "a[-1,:]=1 #bottom\n",
        "a[:,0]=1 #left\n",
        "a[:,-1]=1 #right\n",
        "print(\"1 on border and 0 inside 2D ARRAY: \\n\",a)\n"
      ],
      "metadata": {
        "colab": {
          "base_uri": "https://localhost:8080/"
        },
        "id": "oY7H8SsXI-GQ",
        "outputId": "e87bfdf1-8c9c-4912-f2f2-1762cd88850c"
      },
      "execution_count": 20,
      "outputs": [
        {
          "output_type": "stream",
          "name": "stdout",
          "text": [
            "1 on border and 0 inside 2D ARRAY: \n",
            " [[1 1 1 1 1]\n",
            " [1 0 0 0 1]\n",
            " [1 0 0 0 1]\n",
            " [1 0 0 0 1]\n",
            " [1 1 1 1 1]]\n"
          ]
        }
      ]
    },
    {
      "cell_type": "markdown",
      "source": [
        "9.Create a 8X8 matrix and fill it with a checkerboard pattern."
      ],
      "metadata": {
        "id": "qsl9nVx2J3Zv"
      }
    },
    {
      "cell_type": "code",
      "source": [
        "\n",
        "a=np.zeros((8,8))\n",
        "a[1::2,::2]=1\n",
        "a[::2,1::2]=1\n",
        "a\n",
        "\n"
      ],
      "metadata": {
        "id": "JBCC1tLBJ_uN",
        "colab": {
          "base_uri": "https://localhost:8080/"
        },
        "outputId": "c8779223-84f6-4038-e106-c84324cf1046"
      },
      "execution_count": 22,
      "outputs": [
        {
          "output_type": "execute_result",
          "data": {
            "text/plain": [
              "array([[0., 1., 0., 1., 0., 1., 0., 1.],\n",
              "       [1., 0., 1., 0., 1., 0., 1., 0.],\n",
              "       [0., 1., 0., 1., 0., 1., 0., 1.],\n",
              "       [1., 0., 1., 0., 1., 0., 1., 0.],\n",
              "       [0., 1., 0., 1., 0., 1., 0., 1.],\n",
              "       [1., 0., 1., 0., 1., 0., 1., 0.],\n",
              "       [0., 1., 0., 1., 0., 1., 0., 1.],\n",
              "       [1., 0., 1., 0., 1., 0., 1., 0.]])"
            ]
          },
          "metadata": {},
          "execution_count": 22
        }
      ]
    },
    {
      "cell_type": "markdown",
      "source": [
        "Problem - 3: Array Operations:\n",
        "For the following arrays:\n",
        "x = np.array([[1,2],[3,5]]) and y = np.array([[5,6],[7,8]]);\n",
        "x1 = np.array([9,10]) and y1 = np.array([11,12]);\n",
        "Complete all the task using numpy:"
      ],
      "metadata": {
        "id": "Y0GamJqvwrZV"
      }
    },
    {
      "cell_type": "markdown",
      "source": [
        "1. Add the two array."
      ],
      "metadata": {
        "id": "CKfTOzzyw4tZ"
      }
    },
    {
      "cell_type": "code",
      "source": [
        "x=np.array([[1,2],[3,5]])\n",
        "y=np.array([[5,6],[7,8]])\n",
        "x1 = np.array([9,10])\n",
        "y1 = np.array([11,12])\n",
        "print(\"x: \\n\",x)\n",
        "print(\"y: \\n\",y)\n",
        "add=x+y\n",
        "add1=x1+y1\n",
        "print(\"Adding x+y: \\n\",add)\n",
        "print(\"x1: \\n\",x1)\n",
        "print(\"y1: \\n\",y1)\n",
        "print(\"adding x1+y1: \",add1)"
      ],
      "metadata": {
        "colab": {
          "base_uri": "https://localhost:8080/"
        },
        "id": "rl2yr8thw8e2",
        "outputId": "d36d3ac7-c14e-4cec-abe1-d98841abe535"
      },
      "execution_count": 24,
      "outputs": [
        {
          "output_type": "stream",
          "name": "stdout",
          "text": [
            "x: \n",
            " [[1 2]\n",
            " [3 5]]\n",
            "y: \n",
            " [[5 6]\n",
            " [7 8]]\n",
            "Adding x+y: \n",
            " [[ 6  8]\n",
            " [10 13]]\n",
            "x1: \n",
            " [ 9 10]\n",
            "y1: \n",
            " [11 12]\n",
            "adding x1+y1:  [20 22]\n"
          ]
        }
      ]
    },
    {
      "cell_type": "markdown",
      "source": [
        "2. Subtract the two array."
      ],
      "metadata": {
        "id": "gFaxVRXhzyL2"
      }
    },
    {
      "cell_type": "code",
      "source": [
        "sub=x-y\n",
        "sub1=x1-y1\n",
        "print(\"subtracting y from x: \",sub)\n",
        "print(\"subtracting y1 from x1: \",sub1)"
      ],
      "metadata": {
        "colab": {
          "base_uri": "https://localhost:8080/"
        },
        "id": "Hpdj1SDAz1_V",
        "outputId": "44a231c1-819a-4dd3-8eda-c30ada20ca01"
      },
      "execution_count": 25,
      "outputs": [
        {
          "output_type": "stream",
          "name": "stdout",
          "text": [
            "subtracting y from x:  [[-4 -4]\n",
            " [-4 -3]]\n",
            "subtracting y1 from x1:  [-2 -2]\n"
          ]
        }
      ]
    },
    {
      "cell_type": "markdown",
      "source": [
        "3. Multiply the array with any integers of your choice."
      ],
      "metadata": {
        "id": "WXCPQ3NE02_C"
      }
    },
    {
      "cell_type": "code",
      "source": [
        "mul_x=x*2\n",
        "print(\"x: \\n\",mul_x)\n",
        "mul_y=y*2\n",
        "print(\"y: \\n\",mul_y)\n",
        "mul_x1=x1*2\n",
        "print(\"x1: \\n\",mul_x1)\n",
        "mul_y1=y1*2\n",
        "print(\"y1: \\n\",mul_y1)"
      ],
      "metadata": {
        "colab": {
          "base_uri": "https://localhost:8080/"
        },
        "id": "RetmzMHG1BOS",
        "outputId": "a7787294-7064-4eb4-c46b-8acc1148c3f6"
      },
      "execution_count": 26,
      "outputs": [
        {
          "output_type": "stream",
          "name": "stdout",
          "text": [
            "x: \n",
            " [[ 2  4]\n",
            " [ 6 10]]\n",
            "y: \n",
            " [[10 12]\n",
            " [14 16]]\n",
            "x1: \n",
            " [18 20]\n",
            "y1: \n",
            " [22 24]\n"
          ]
        }
      ]
    },
    {
      "cell_type": "markdown",
      "source": [
        "4. Find the square of each element of the array."
      ],
      "metadata": {
        "id": "JG6ZKKvbys0b"
      }
    },
    {
      "cell_type": "code",
      "source": [
        "sq_x=np.square(x)\n",
        "print(\"squaring x: \\n\",sq_x )\n",
        "sq_y=np.square(y)\n",
        "print(\"squaring y: \\n\",sq_y )\n",
        "sq_x1=np.square(x1)\n",
        "print(\"squaring x1: \\n\",sq_x1 )\n",
        "sq_y1=np.square(y1)\n",
        "print(\"squaring y1: \\n\",sq_y1 )\n",
        "\n",
        "\n"
      ],
      "metadata": {
        "colab": {
          "base_uri": "https://localhost:8080/"
        },
        "id": "ikT9pdm-2ug0",
        "outputId": "a7586cac-df7e-493a-ef5f-52c514265eda"
      },
      "execution_count": null,
      "outputs": [
        {
          "output_type": "stream",
          "name": "stdout",
          "text": [
            "squaring x: \n",
            " [[ 1  4]\n",
            " [ 9 25]]\n",
            "squaring y: \n",
            " [[25 36]\n",
            " [49 64]]\n",
            "squaring v: \n",
            " [ 81 100]\n",
            "squaring w: \n",
            " [121 144]\n"
          ]
        }
      ]
    },
    {
      "cell_type": "markdown",
      "source": [
        "5. Find the dot product between"
      ],
      "metadata": {
        "id": "Ysc1quPX4eru"
      }
    },
    {
      "cell_type": "code",
      "source": [
        "result_1 = np.dot(x1, y1)\n",
        "print(\"Dot product of x1 and y1: \\n\", result_1)\n",
        "result_2 = np.dot(x, x1)\n",
        "print(\"Dot product of x and x1:\\n\", result_2)\n",
        "result_3 = np.dot(x, y)\n",
        "print(\"Dot product of x and y:\\n\", result_3)\n"
      ],
      "metadata": {
        "colab": {
          "base_uri": "https://localhost:8080/"
        },
        "id": "APxk-IVg4h-T",
        "outputId": "b49f5722-e9e6-4d20-bb3e-6c85ace1519d"
      },
      "execution_count": 27,
      "outputs": [
        {
          "output_type": "stream",
          "name": "stdout",
          "text": [
            "Dot product of x1 and y1: \n",
            " 219\n",
            "Dot product of x and x1:\n",
            " [29 77]\n",
            "Dot product of x and y:\n",
            " [[19 22]\n",
            " [50 58]]\n"
          ]
        }
      ]
    },
    {
      "cell_type": "markdown",
      "source": [
        "6. Concatenate x(and)y along row and Concatenate x1(and)y1 along column.\n",
        "{Hint:try np.concatenate() or np.vstack() functions."
      ],
      "metadata": {
        "id": "Lo4qix3jUEkz"
      }
    },
    {
      "cell_type": "code",
      "source": [
        "a=np.concatenate((x,y),axis=1)\n",
        "print(\"along row: \\n\",a)\n",
        "a=np.vstack((x1,y1))\n",
        "print(\"along column: \\n\",a)"
      ],
      "metadata": {
        "colab": {
          "base_uri": "https://localhost:8080/"
        },
        "id": "m6InXi7vVOeY",
        "outputId": "4ef52a58-b406-4fc2-d345-f0d0b0b988c5"
      },
      "execution_count": 28,
      "outputs": [
        {
          "output_type": "stream",
          "name": "stdout",
          "text": [
            "along row: \n",
            " [[1 2 5 6]\n",
            " [3 5 7 8]]\n",
            "along column: \n",
            " [[ 9 10]\n",
            " [11 12]]\n"
          ]
        }
      ]
    },
    {
      "cell_type": "code",
      "source": [
        "result = np.concatenate((x, x1))\n",
        "print(\"Concatenation result:\\n\", result)"
      ],
      "metadata": {
        "colab": {
          "base_uri": "https://localhost:8080/",
          "height": 176
        },
        "id": "5CinylGtXBL5",
        "outputId": "974fade2-b285-4ae7-fd0f-ef4875a69684"
      },
      "execution_count": 29,
      "outputs": [
        {
          "output_type": "error",
          "ename": "ValueError",
          "evalue": "all the input arrays must have same number of dimensions, but the array at index 0 has 2 dimension(s) and the array at index 1 has 1 dimension(s)",
          "traceback": [
            "\u001b[0;31m---------------------------------------------------------------------------\u001b[0m",
            "\u001b[0;31mValueError\u001b[0m                                Traceback (most recent call last)",
            "\u001b[0;32m<ipython-input-29-720126a895bc>\u001b[0m in \u001b[0;36m<cell line: 1>\u001b[0;34m()\u001b[0m\n\u001b[0;32m----> 1\u001b[0;31m \u001b[0mresult\u001b[0m \u001b[0;34m=\u001b[0m \u001b[0mnp\u001b[0m\u001b[0;34m.\u001b[0m\u001b[0mconcatenate\u001b[0m\u001b[0;34m(\u001b[0m\u001b[0;34m(\u001b[0m\u001b[0mx\u001b[0m\u001b[0;34m,\u001b[0m \u001b[0mx1\u001b[0m\u001b[0;34m)\u001b[0m\u001b[0;34m)\u001b[0m\u001b[0;34m\u001b[0m\u001b[0;34m\u001b[0m\u001b[0m\n\u001b[0m\u001b[1;32m      2\u001b[0m \u001b[0mprint\u001b[0m\u001b[0;34m(\u001b[0m\u001b[0;34m\"Concatenation result:\\n\"\u001b[0m\u001b[0;34m,\u001b[0m \u001b[0mresult\u001b[0m\u001b[0;34m)\u001b[0m\u001b[0;34m\u001b[0m\u001b[0;34m\u001b[0m\u001b[0m\n",
            "\u001b[0;31mValueError\u001b[0m: all the input arrays must have same number of dimensions, but the array at index 0 has 2 dimension(s) and the array at index 1 has 1 dimension(s)"
          ]
        }
      ]
    },
    {
      "cell_type": "markdown",
      "source": [
        "X here is a 2d array and x1 is 1d array.\n",
        "\n",
        "\n"
      ],
      "metadata": {
        "id": "PBHPMXmOen7r"
      }
    },
    {
      "cell_type": "markdown",
      "source": [
        "Problem - 4: Matrix Operations:\n",
        "• For the following arrays:\n",
        "A = np.array([[3,4],[7,8]]) and B = np.array([[5,3],[2,1]]);\n",
        "Prove following with Numpy:\n",
        "1. Prove A.A^−1 = I\n"
      ],
      "metadata": {
        "id": "1Ywrjh9UVWrn"
      }
    },
    {
      "cell_type": "code",
      "source": [
        "\n",
        "A=np.array([[3,4],[7,8]])\n",
        "B=np.array([[5,3],[2,1]])\n",
        "A_inverse=np.linalg.inv(A)\n",
        "result=np.dot(A,A_inverse)\n",
        "identity_matrix=np.eye(2)\n",
        "print(\"Matrix A:\\n\", A)\n",
        "print(\"Inverse of A (A^-1):\\n\", A_inverse)\n",
        "print(\"Product of A and A^-1 (A.A^-1):\\n\", result)\n",
        "print(\"Identity Matrix:\\n\", identity_matrix)\n",
        "y=np.allclose(result,identity_matrix)\n",
        "print(\"Is A.A^-1 equal to identity matrix?->\",y)\n"
      ],
      "metadata": {
        "colab": {
          "base_uri": "https://localhost:8080/"
        },
        "id": "5wrBX4fYWv9F",
        "outputId": "84b96331-8554-4569-e3df-6f566c0f750d"
      },
      "execution_count": 30,
      "outputs": [
        {
          "output_type": "stream",
          "name": "stdout",
          "text": [
            "Matrix A:\n",
            " [[3 4]\n",
            " [7 8]]\n",
            "Inverse of A (A^-1):\n",
            " [[-2.    1.  ]\n",
            " [ 1.75 -0.75]]\n",
            "Product of A and A^-1 (A.A^-1):\n",
            " [[1.00000000e+00 0.00000000e+00]\n",
            " [1.77635684e-15 1.00000000e+00]]\n",
            "Identity Matrix:\n",
            " [[1. 0.]\n",
            " [0. 1.]]\n",
            "Is A.A^-1 equal to identity matrix?-> True\n"
          ]
        }
      ]
    },
    {
      "cell_type": "markdown",
      "source": [
        "2. Prove AB ̸= BA."
      ],
      "metadata": {
        "id": "XtuwrGyLdlY-"
      }
    },
    {
      "cell_type": "code",
      "source": [
        "AB = np.dot(A, B)\n",
        "BA = np.dot(B, A)\n",
        "print(\"AB (A * B):\\n\", AB)\n",
        "print(\"BA (B * A):\\n\", BA)\n",
        "are_equal=np.array_equal(AB,BA)\n",
        "print(\" Is AB = BA? \",are_equal)"
      ],
      "metadata": {
        "colab": {
          "base_uri": "https://localhost:8080/"
        },
        "id": "rmvvpFKwdyAt",
        "outputId": "6f0817ee-6551-4843-d8a1-2ca68aa82638"
      },
      "execution_count": 31,
      "outputs": [
        {
          "output_type": "stream",
          "name": "stdout",
          "text": [
            "AB (A * B):\n",
            " [[23 13]\n",
            " [51 29]]\n",
            "BA (B * A):\n",
            " [[36 44]\n",
            " [13 16]]\n",
            " Is AB = BA?  False\n"
          ]
        }
      ]
    },
    {
      "cell_type": "markdown",
      "source": [
        " 3. Prove (AB)^T=B^T*A^T"
      ],
      "metadata": {
        "id": "fzvpJ6TVfFKq"
      }
    },
    {
      "cell_type": "code",
      "source": [
        "A = np.array([[1, 2], [3, 4]])\n",
        "B = np.array([[5, 6], [7, 8]])\n",
        "AB=np.dot(A,B)\n",
        "AB_T=AB.T\n",
        "B_T=B.T\n",
        "A_T=A.T\n",
        "BT_AT=np.dot(B_T,A_T)\n",
        "print(\"AB:\\n\", AB)\n",
        "print(\"(AB)^T:\\n\", AB_T)\n",
        "print(\"B^T:\\n\", B_T)\n",
        "print(\"A^T:\\n\", A_T)\n",
        "print(\"B^T * A^T:\\n\", BT_AT)\n",
        "is_equal=np.array_equal(AB_T,BT_AT)\n",
        "print(\"Is (AB)^T equal to B^T * A^T? \", is_equal)"
      ],
      "metadata": {
        "colab": {
          "base_uri": "https://localhost:8080/"
        },
        "id": "AsNva8ypfVPO",
        "outputId": "000c7192-6c11-43fd-c09a-4080f128a726"
      },
      "execution_count": null,
      "outputs": [
        {
          "output_type": "stream",
          "name": "stdout",
          "text": [
            "AB:\n",
            " [[19 22]\n",
            " [43 50]]\n",
            "(AB)^T:\n",
            " [[19 43]\n",
            " [22 50]]\n",
            "B^T:\n",
            " [[5 7]\n",
            " [6 8]]\n",
            "A^T:\n",
            " [[1 3]\n",
            " [2 4]]\n",
            "B^T * A^T:\n",
            " [[19 43]\n",
            " [22 50]]\n",
            "Is (AB)^T equal to B^T * A^T?  True\n"
          ]
        }
      ]
    },
    {
      "cell_type": "markdown",
      "source": [
        "Solve the following system of Linear equation using Inverse Methods.\n",
        "\n",
        "2x − 3y + z = −1\n",
        "x − y + 2z = −3\n",
        "3x + y − z = 9\n",
        "{Hint: First use Numpy array to represent the equation in Matrix form. Then Solve for: AX = B}"
      ],
      "metadata": {
        "id": "pmznpcmvh_oE"
      }
    },
    {
      "cell_type": "code",
      "source": [
        "\n",
        "A=np.array([[2,-3,1], [1,-1,2], [3,1,-1]])\n",
        "B=np.array([-1,-3,9])\n",
        "A_inverse=np.linalg.inv(A)\n",
        "x=np.dot(A_inverse,B)\n",
        "print(\"Coefficient Matrix (A):\\n\", A)\n",
        "print(\"Constants Vector (B):\\n\", B)\n",
        "print(\"Inverse of A (A^-1):\\n\", A_inverse)\n",
        "print(\"Solution Vector (X):\\n\", x)"
      ],
      "metadata": {
        "colab": {
          "base_uri": "https://localhost:8080/"
        },
        "id": "gOk_IV2WiBL1",
        "outputId": "2f6069ac-a621-44a9-b34f-cadcb023bda8"
      },
      "execution_count": 32,
      "outputs": [
        {
          "output_type": "stream",
          "name": "stdout",
          "text": [
            "Coefficient Matrix (A):\n",
            " [[ 2 -3  1]\n",
            " [ 1 -1  2]\n",
            " [ 3  1 -1]]\n",
            "Constants Vector (B):\n",
            " [-1 -3  9]\n",
            "Inverse of A (A^-1):\n",
            " [[ 0.05263158  0.10526316  0.26315789]\n",
            " [-0.36842105  0.26315789  0.15789474]\n",
            " [-0.21052632  0.57894737 -0.05263158]]\n",
            "Solution Vector (X):\n",
            " [ 2.  1. -2.]\n"
          ]
        }
      ]
    },
    {
      "cell_type": "markdown",
      "source": [
        "4.2 Experiment: How Fast is Numpy?\n",
        "In this exercise, you will compare the performance and implementation of operations using plain Python\n",
        "lists (arrays) and NumPy arrays. Follow the instructions:"
      ],
      "metadata": {
        "id": "SAOPlbQ_U6Mc"
      }
    },
    {
      "cell_type": "markdown",
      "source": [
        "1. Element-wise Addition:\n",
        "• Using Python Lists, perform element-wise addition of two lists of size 1, 000, 000. Measure\n",
        "and Print the time taken for this operation.\n",
        "• Using Numpy Arrays, Repeat the calculation and measure and print the time taken for this\n",
        "operation."
      ],
      "metadata": {
        "id": "RtUzomtKU7fm"
      }
    },
    {
      "cell_type": "code",
      "source": [
        "\n",
        "import time\n",
        "l1=list(range(1,1000001))\n",
        "l2=list(range(1,1000001))\n",
        "start_time= time.time()\n",
        "result_list=[a+b for a, b in zip(l1,l2)]\n",
        "python_time=time.time()-start_time\n",
        "print(\"Time taken using Python lists:\", python_time, \"seconds\")\n",
        "#numpy arrays:\n",
        "a1=np.arange(1,1000001)\n",
        "a2=np.arange(1,1000001)\n",
        "\n",
        "start_time=time.time()\n",
        "result_array=a1+a2\n",
        "numpy_time=time.time()-start_time\n",
        "print(\"Time taken  using NumPy arrays:\", numpy_time, \"seconds\")\n",
        "\n"
      ],
      "metadata": {
        "colab": {
          "base_uri": "https://localhost:8080/"
        },
        "id": "iqDNVn3bVCAA",
        "outputId": "15b2a374-c7cf-4eb8-edc8-5678fd33c3c3"
      },
      "execution_count": 34,
      "outputs": [
        {
          "output_type": "stream",
          "name": "stdout",
          "text": [
            "Time taken using Python lists: 0.10046625137329102 seconds\n",
            "Time taken  using NumPy arrays: 0.014731168746948242 seconds\n"
          ]
        }
      ]
    },
    {
      "cell_type": "markdown",
      "source": [
        "2. Element-wise Multiplication\n",
        "\n",
        "• Using Python Lists, perform element-wise multiplication of two lists of size 1, 000, 000. Measure and Print the time taken for this operation.\n",
        "\n",
        "• Using Numpy Arrays, Repeat the calculation and measure and print the time taken for this\n",
        "operation."
      ],
      "metadata": {
        "id": "ZJdbcWl7YRrB"
      }
    },
    {
      "cell_type": "code",
      "source": [
        "\n",
        "start_time=time.time()\n",
        "result_list=[a*b for a,b in zip(l1,l2)]\n",
        "python_time=time.time()-start_time\n",
        "print(\"multiplication using Python lists time:\", python_time, \"seconds\")\n",
        "\n",
        "start_time = time.time()\n",
        "result_array = a1 * a2\n",
        "numpy_time = time.time() - start_time\n",
        "print(\" multiplication using NumPy arrays:\", numpy_time, \"seconds\")\n"
      ],
      "metadata": {
        "colab": {
          "base_uri": "https://localhost:8080/"
        },
        "id": "oxThCpesbFT7",
        "outputId": "2cc183ca-8960-419d-a0ca-7d6dd2929e15"
      },
      "execution_count": 35,
      "outputs": [
        {
          "output_type": "stream",
          "name": "stdout",
          "text": [
            "multiplication using Python lists time: 0.10107111930847168 seconds\n",
            " multiplication using NumPy arrays: 0.005095005035400391 seconds\n"
          ]
        }
      ]
    },
    {
      "cell_type": "markdown",
      "source": [
        "3. Dot Product\n",
        "• Using Python Lists, compute the dot product of two lists of size 1, 000, 000. Measure and\n",
        "Print the time taken for this operation.\n",
        "• Using Numpy Arrays, Repeat the calculation and measure and print the time taken for this operation."
      ],
      "metadata": {
        "id": "QWAVACbaYRB3"
      }
    },
    {
      "cell_type": "code",
      "source": [
        "\n",
        "\n",
        "\n",
        "start_time = time.time()\n",
        "dot_product_list = sum(a * b for a, b in zip(l1, l2))\n",
        "python_time = time.time() - start_time\n",
        "print(\"Time taken for dot product using Python lists:\", python_time, \"seconds\")\n",
        "\n",
        "\n",
        "\n",
        "start_time = time.time()\n",
        "dot_product_numpy = np.dot(a1, a2)\n",
        "numpy_time = time.time() - start_time\n",
        "print(\"Time taken for dot product using NumPy arrays: \", numpy_time, \"seconds\")"
      ],
      "metadata": {
        "colab": {
          "base_uri": "https://localhost:8080/"
        },
        "id": "u5y7eZlOefa0",
        "outputId": "37881b83-343a-408c-853d-4fb61d2dd3fc"
      },
      "execution_count": 36,
      "outputs": [
        {
          "output_type": "stream",
          "name": "stdout",
          "text": [
            "Time taken for dot product using Python lists: 0.10902118682861328 seconds\n",
            "Time taken for dot product using NumPy arrays:  0.001870870590209961 seconds\n"
          ]
        }
      ]
    },
    {
      "cell_type": "markdown",
      "source": [
        "4. Matrix Multiplication\n",
        "• Using Python lists, perform matrix multiplication of two matrices of size 1000x1000. Measure\n",
        "and print the time taken for this operation.\n",
        "\n",
        "• Using NumPy arrays, perform matrix multiplication of two matrices of size 1000x1000. Mea-\n",
        "sure and print the time taken for this operation."
      ],
      "metadata": {
        "id": "YdM5DDdmfxbG"
      }
    },
    {
      "cell_type": "code",
      "source": [],
      "metadata": {
        "id": "07kgCjBF4_hR"
      },
      "execution_count": null,
      "outputs": []
    },
    {
      "cell_type": "code",
      "source": [
        "import time\n",
        "import numpy as np\n",
        "\n",
        "# 1000 was taking long time so i did 100\n",
        "# Python lists\n",
        "m1 = [[i for i in range(100)] for j in range(100)]\n",
        "m2 = [[i for i in range(100)] for j in range(100)]\n",
        "\n",
        "start_time = time.time()\n",
        "result_matrix = [[sum(m1[i][k] * m2[k][j] for k in range(100)) for j in range(100)] for i in range(100)]\n",
        "python_time = time.time() - start_time\n",
        "print(\"Matrix multiplication using Python lists time:\", python_time, \"seconds\")\n",
        "\n",
        "# Matrix multiplication using NumPy\n",
        "m1_np = np.random.rand(100, 100)\n",
        "m2_np = np.random.rand(100, 100)\n",
        "\n",
        "start_time = time.time()\n",
        "result_matrix_np = np.dot(m1_np, m2_np)\n",
        "numpy_time = time.time() - start_time\n",
        "print(\"Matrix multiplication using NumPy arrays time:\", numpy_time, \"seconds\")\n"
      ],
      "metadata": {
        "colab": {
          "base_uri": "https://localhost:8080/"
        },
        "id": "IURoNAPN6NyW",
        "outputId": "a20ec3fd-0f28-448e-c220-6c64586880cc"
      },
      "execution_count": 38,
      "outputs": [
        {
          "output_type": "stream",
          "name": "stdout",
          "text": [
            "Matrix multiplication using Python lists time: 0.4346628189086914 seconds\n",
            "Matrix multiplication using NumPy arrays time: 0.0004115104675292969 seconds\n"
          ]
        }
      ]
    },
    {
      "cell_type": "code",
      "source": [],
      "metadata": {
        "id": "0gYCPPCT6Og8"
      },
      "execution_count": null,
      "outputs": []
    }
  ]
}